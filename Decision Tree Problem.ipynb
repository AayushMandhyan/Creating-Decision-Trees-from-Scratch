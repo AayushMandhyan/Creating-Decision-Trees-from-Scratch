{
 "cells": [
  {
   "cell_type": "markdown",
   "metadata": {},
   "source": [
    "# CS 536 : Decision Trees Assignment"
   ]
  },
  {
   "cell_type": "code",
   "execution_count": 1,
   "metadata": {},
   "outputs": [],
   "source": [
    "#Importing libraries\n",
    "import numpy as np\n",
    "import pandas as pd\n",
    "from pprint import pprint\n",
    "import matplotlib.pyplot as plt\n",
    "plt.rcParams['figure.figsize'] = [15, 7]"
   ]
  },
  {
   "cell_type": "code",
   "execution_count": 2,
   "metadata": {},
   "outputs": [],
   "source": [
    "#Initializing global variables\n",
    "k = 4\n",
    "m = 30\n",
    "epsilon = 0.0000001"
   ]
  },
  {
   "cell_type": "markdown",
   "metadata": {},
   "source": [
    "# Question 1\n",
    "\n",
    "For a given value of k;m, (number of features, number of data points), write a function to generate a training\n",
    "data set based on the above scheme."
   ]
  },
  {
   "cell_type": "code",
   "execution_count": 3,
   "metadata": {},
   "outputs": [],
   "source": [
    "#Function to generate dataset\n",
    "def generate_dataframe(k=0, m=0):\n",
    "    \n",
    "    data = []\n",
    "    \n",
    "    #Internal function to generate rows\n",
    "    def generate_vector(k=0):\n",
    "        X = []\n",
    "        Y = 0\n",
    "        w_denom = sum([0.9**x for x in range(2,k+1)])\n",
    "\n",
    "        for x in range(1, k+1):\n",
    "            if x != 1:\n",
    "                prev_X = X[-1]\n",
    "                X.append(int(np.random.choice([prev_X, 1-prev_X], 1, p=[0.75, 0.25])))\n",
    "            else: # when x == 1\n",
    "                X.append(int(np.random.choice([1,0], 1, p=[0.5, 0.5])))\n",
    "\n",
    "        if sum([ ((0.9**n)/w_denom)*X[n-1] for n in range(2,k+1) ]) >= 1/2:\n",
    "            X.append(X[1])\n",
    "        else:\n",
    "            X.append(1 - X[1])\n",
    "\n",
    "        return X\n",
    "    \n",
    "    for x in range(1, m+1):\n",
    "        data.append(generate_vector(k))\n",
    "        \n",
    "    #Create header list\n",
    "    headers = ['X'+str(x) for x in range(1,k+1)] + ['Y']\n",
    "    \n",
    "    dataframe = pd.DataFrame(data, columns=headers)\n",
    "        \n",
    "    return dataframe"
   ]
  },
  {
   "cell_type": "markdown",
   "metadata": {},
   "source": [
    "Function to split feature based on Entropy"
   ]
  },
  {
   "cell_type": "code",
   "execution_count": 4,
   "metadata": {},
   "outputs": [],
   "source": [
    "#Splitting Variable function\n",
    "def splitting_variable(dataframe):\n",
    "    \"\"\"This function take a dataframe as input and returns apt splitting variable based on maximum information gain\"\"\"\n",
    "    \n",
    "    def information_gain(subset_df):\n",
    "        \"\"\"Extract the count when\n",
    "               | x=0  | x=1\n",
    "           y=0 | x0y0 | x1y0\n",
    "           y=1 | x0y1 | x1y1\n",
    "        \"\"\"\n",
    "        classes = list(subset_df)\n",
    "        x0y0 = len(subset_df.loc[(subset_df[classes[0]] == 0) & (subset_df[classes[1]] == 0)])\n",
    "        x0y1 = len(subset_df.loc[(subset_df[classes[0]] == 0) & (subset_df[classes[1]] == 1)])\n",
    "        x1y0 = len(subset_df.loc[(subset_df[classes[0]] == 1) & (subset_df[classes[1]] == 0)])\n",
    "        x1y1 = len(subset_df.loc[(subset_df[classes[0]] == 1) & (subset_df[classes[1]] == 1)])\n",
    "                \n",
    "        py0 = (x0y0 + x1y0) / (x0y0 + x1y0 + x0y1 + x1y1 + epsilon)\n",
    "        py1 = (x0y1 + x1y1) / (x0y0 + x1y0 + x0y1 + x1y1 + epsilon)\n",
    "        \n",
    "        px0 = (x0y0 + x0y1) / (x0y0 + x1y0 + x0y1 + x1y1 + epsilon)\n",
    "        px1 = (x1y0 + x1y1) / (x0y0 + x1y0 + x0y1 + x1y1 + epsilon)\n",
    "                \n",
    "        py0x0 = x0y0 / (x0y0 + x0y1 + epsilon)\n",
    "        py1x0 = x0y1 / (x0y0 + x0y1 + epsilon)\n",
    "        \n",
    "        py0x1 = x1y0 / (x1y0 + x1y1 + epsilon)\n",
    "        py1x1 = x1y1 / (x1y0 + x1y1 + epsilon)\n",
    "              \n",
    "        pyx0 = (-1 * py0x0 * np.log(py0x0 + epsilon)) + (-1 * py1x0 * np.log(py1x0 + epsilon))\n",
    "        pyx1 = (-1 * py0x1 * np.log(py0x1 + epsilon)) + (-1 * py1x1 * np.log(py1x1 + epsilon))\n",
    "                \n",
    "        hy =  (-1 * py0 * np.log(py0 + epsilon)) + (-1 * py1 * np.log(py1 + epsilon))\n",
    "        hyx = (px1 * pyx1) + (px0 * pyx0)\n",
    "                \n",
    "        igx = hy - hyx\n",
    "                \n",
    "        return igx\n",
    "    \n",
    "    #Fetch information gain for every X\n",
    "    columns = list(dataframe)\n",
    "    ig = [information_gain(dataframe[[x, 'Y']]) for x in columns[:-1]]\n",
    "    split_on_variable = columns[np.argmax(ig)]\n",
    "    \n",
    "    return split_on_variable #splitting variable"
   ]
  },
  {
   "cell_type": "markdown",
   "metadata": {},
   "source": [
    "Function to split feature based on Chi-Squared test "
   ]
  },
  {
   "cell_type": "code",
   "execution_count": 5,
   "metadata": {},
   "outputs": [],
   "source": [
    "#Splitting function based on Chi-Squared Test\n",
    "def chi_squared_split(dataframe):\n",
    "    \n",
    "    def chi_squared(subset_df):\n",
    "        \"\"\"Extract the count when\n",
    "               | x=0  | x=1\n",
    "           y=0 | x0y0 | x1y0\n",
    "           y=1 | x0y1 | x1y1\n",
    "        \"\"\"\n",
    "        classes = list(subset_df)\n",
    "        x0y0 = len(subset_df.loc[(subset_df[classes[0]] == 0) & (subset_df[classes[1]] == 0)])\n",
    "        x0y1 = len(subset_df.loc[(subset_df[classes[0]] == 0) & (subset_df[classes[1]] == 1)])\n",
    "        x1y0 = len(subset_df.loc[(subset_df[classes[0]] == 1) & (subset_df[classes[1]] == 0)])\n",
    "        x1y1 = len(subset_df.loc[(subset_df[classes[0]] == 1) & (subset_df[classes[1]] == 1)])\n",
    "        \n",
    "        total_count = x0y0 + x0y1 + x1y0 + x1y1\n",
    "        \n",
    "        py0 = (x0y0 + x1y0) / (total_count + epsilon)\n",
    "        py1 = (x0y1 + x1y1) / (total_count + epsilon)\n",
    "        \n",
    "        px0 = (x0y0 + x0y1) / (total_count + epsilon)\n",
    "        px1 = (x1y0 + x1y1) / (total_count + epsilon)\n",
    "        \n",
    "        t_x0y0 = (((px0 * py0 * total_count) - x0y0) ** 2)/((px0 * py0 * total_count) + epsilon) \n",
    "        t_x0y1 = (((px0 * py1 * total_count) - x0y1) ** 2)/((px0 * py1 * total_count) + epsilon)\n",
    "        t_x1y0 = (((px1 * py0 * total_count) - x1y0) ** 2)/((px1 * py0 * total_count) + epsilon)\n",
    "        t_x1y1 = (((px1 * py1 * total_count) - x1y1) ** 2)/((px1 * py1 * total_count) + epsilon)\n",
    "        \n",
    "        T = t_x0y0 + t_x0y1 + t_x1y0 + t_x1y1\n",
    "        \n",
    "        return T\n",
    "        \n",
    "    #Fetch information gain for every X\n",
    "    columns = list(dataframe)\n",
    "    chi = [chi_squared(dataframe[[x, 'Y']]) for x in columns[:-1]]\n",
    "\n",
    "    split_on_variable = columns[np.argmax(chi)]\n",
    "    \n",
    "    return split_on_variable #splitting variable"
   ]
  },
  {
   "cell_type": "markdown",
   "metadata": {},
   "source": [
    "# Question 2\n",
    "\n",
    "Given a data set, write a function to \f",
    "t a decision tree to that data based on splitting the variables by maximizing\n",
    "the information gain. Additionally, return the training error of this tree on the data set, errtrain( ^ f)."
   ]
  },
  {
   "cell_type": "code",
   "execution_count": 6,
   "metadata": {},
   "outputs": [],
   "source": [
    "#generate decision tree\n",
    "def generate_decision_tree(dataframe, tree=None):\n",
    "    \n",
    "    #fetch the features X1, X2...Xn\n",
    "    classes = list(dataframe)[:-1]\n",
    "    \n",
    "    #get the node to split on\n",
    "    split_var = splitting_variable(dataframe)\n",
    "    \n",
    "    #initialize tree in form of dictionary if not already initialized\n",
    "    if tree is None:\n",
    "        tree = {}\n",
    "        tree[split_var] = {}\n",
    "    \n",
    "    #Explore when split_var is 0 & 1\n",
    "    for value in (0,1):\n",
    "        split_dataframe = dataframe[dataframe[split_var] == value]\n",
    "        class_value, value_count = np.unique(split_dataframe['Y'], return_counts=True)\n",
    "        \n",
    "        #check if split_dataframe has only single class to consider, if not then explore further\n",
    "        if len(value_count) == 1: \n",
    "            tree[split_var][value] = class_value[0]\n",
    "        else:\n",
    "            #recursively call the tree\n",
    "            tree[split_var][value] = generate_decision_tree(split_dataframe)\n",
    "            \n",
    "    #return the generated tree\n",
    "    return tree        "
   ]
  },
  {
   "cell_type": "code",
   "execution_count": 7,
   "metadata": {},
   "outputs": [],
   "source": [
    "#generate decision tree using chi-squared\n",
    "def generate_decision_tree_chi(dataframe, tree=None):\n",
    "    \n",
    "    #fetch the features X1, X2...Xn\n",
    "    classes = list(dataframe)[:-1]\n",
    "    \n",
    "    #get the node to split on\n",
    "    split_var = chi_squared_split(dataframe)\n",
    "    \n",
    "    #initialize tree in form of dictionary if not already initialized\n",
    "    if tree is None:\n",
    "        tree = {}\n",
    "        tree[split_var] = {}\n",
    "    \n",
    "    #Explore when split_var is 0 & 1\n",
    "    for value in (0,1):\n",
    "        split_dataframe = dataframe[dataframe[split_var] == value]\n",
    "        class_value, value_count = np.unique(split_dataframe['Y'], return_counts=True)\n",
    "        \n",
    "        #check if split_dataframe has only single class to consider, if not then explore further\n",
    "        if len(value_count) == 1: \n",
    "            tree[split_var][value] = class_value[0]\n",
    "        else:\n",
    "            #recursively call the tree\n",
    "            tree[split_var][value] = generate_decision_tree_chi(split_dataframe)\n",
    "            \n",
    "    #return the generated tree\n",
    "    return tree        "
   ]
  },
  {
   "cell_type": "code",
   "execution_count": 8,
   "metadata": {},
   "outputs": [],
   "source": [
    "#predict function using the decision tree\n",
    "def predict(X_dataframe, tree):\n",
    "    for value in tree.keys():\n",
    "        sub_tree = int(X_dataframe[value])\n",
    "        tree = tree[value][sub_tree]\n",
    "        \n",
    "        if type(tree) is not dict:\n",
    "            return tree\n",
    "        else:\n",
    "            return predict(X_dataframe, tree)"
   ]
  },
  {
   "cell_type": "code",
   "execution_count": 9,
   "metadata": {},
   "outputs": [],
   "source": [
    "#Create function for computing ERR_train\n",
    "def compute_ERR(dataframe, tree):\n",
    "    \n",
    "    err = 0\n",
    "    length = len(dataframe)\n",
    "    \n",
    "    for row_index in range(0, length):\n",
    "        row = dataframe[row_index: row_index+1]\n",
    "        \n",
    "        if int(row['Y']) != predict(row, tree):\n",
    "            err += 1\n",
    "            \n",
    "    return err/length"
   ]
  },
  {
   "cell_type": "markdown",
   "metadata": {},
   "source": [
    "# Question 3\n",
    "\n",
    "For k = 4 and m = 30, generate data and \f",
    "t a decision tree to it. Does the ordering of the variables in the\n",
    "decision tree make sense, based on the function that de\f",
    "nes Y ? Why or why not? Draw the tree."
   ]
  },
  {
   "cell_type": "code",
   "execution_count": 10,
   "metadata": {},
   "outputs": [
    {
     "name": "stdout",
     "output_type": "stream",
     "text": [
      "Data Set:\n",
      "\n",
      "    X1  X2  X3  X4  Y\n",
      "0    0   0   1   1  0\n",
      "1    0   0   0   0  1\n",
      "2    1   1   1   1  1\n",
      "3    1   0   0   0  1\n",
      "4    0   1   1   0  1\n",
      "5    0   0   1   1  0\n",
      "6    0   0   0   0  1\n",
      "7    0   0   1   1  0\n",
      "8    0   0   1   1  0\n",
      "9    1   0   1   1  0\n",
      "10   0   0   0   0  1\n",
      "11   1   1   1   0  1\n",
      "12   0   0   0   1  1\n",
      "13   0   0   0   0  1\n",
      "14   1   1   0   0  0\n",
      "15   0   0   1   1  0\n",
      "16   0   1   1   1  1\n",
      "17   0   0   0   1  1\n",
      "18   1   1   1   0  1\n",
      "19   1   0   0   0  1\n",
      "20   1   1   1   1  1\n",
      "21   1   0   0   0  1\n",
      "22   1   1   1   1  1\n",
      "23   0   0   0   0  1\n",
      "24   1   0   0   1  1\n",
      "25   0   0   0   1  1\n",
      "26   1   1   0   0  0\n",
      "27   1   1   1   1  1\n",
      "28   0   0   0   0  1\n",
      "29   0   1   1   1  1 \n",
      "\n",
      "\n",
      "Decision Tree: \n",
      "\n",
      "{'X3': {0: {'X2': {0: 1, 1: 0}}, 1: {'X2': {0: 0, 1: 1}}}}\n",
      "\n",
      "\n",
      "Train Error:\n",
      "0.0 \n",
      "\n"
     ]
    }
   ],
   "source": [
    "k = 4\n",
    "m = 30\n",
    "\n",
    "#Generate dataframe based on above parameters\n",
    "df = generate_dataframe(k, m)\n",
    "print('Data Set:\\n')\n",
    "print(df,'\\n')\n",
    "\n",
    "#Fit decision tree\n",
    "tree = generate_decision_tree(df)\n",
    "print('\\nDecision Tree: \\n')\n",
    "pprint(tree)\n",
    "print('\\n')\n",
    "\n",
    "#Compute Training Error\n",
    "ERR_train = compute_ERR(df, tree)\n",
    "print('Train Error:')\n",
    "print(ERR_train,'\\n')"
   ]
  },
  {
   "cell_type": "markdown",
   "metadata": {},
   "source": [
    "![alt text](decision.png \"Decision Tree\")"
   ]
  },
  {
   "cell_type": "markdown",
   "metadata": {},
   "source": [
    "The order of the variables in the decision tree makes sense. Its justified by looking at the Training Error of generated Decision Tree, which is 0. Meaning the decision tree models our training data perfectly."
   ]
  },
  {
   "cell_type": "markdown",
   "metadata": {},
   "source": [
    "# Question 4\n",
    "\n",
    "Write a function that takes a decision tree and estimates its typical error on this data err( ^ f); i.e., generate a\n",
    "lot of data according to the above scheme, and \f",
    "nd the average error rate of this tree over that data."
   ]
  },
  {
   "cell_type": "code",
   "execution_count": 11,
   "metadata": {},
   "outputs": [
    {
     "name": "stdout",
     "output_type": "stream",
     "text": [
      "Data Set:\n",
      "\n",
      "   X1  X2  X3  X4  Y\n",
      "0   0   0   0   0  1\n",
      "1   1   1   1   1  1\n",
      "2   1   0   1   1  0\n",
      "3   1   1   1   1  1\n",
      "4   0   1   1   1  1\n",
      "5   1   1   1   1  1\n",
      "6   0   0   0   0  1\n",
      "7   1   1   1   0  1\n",
      "8   1   1   1   0  1\n",
      "9   0   1   1   1  1 \n",
      "\n",
      "Average Error:\n",
      "0.0 \n",
      "\n"
     ]
    }
   ],
   "source": [
    "k = 4\n",
    "m = 10\n",
    "\n",
    "#Generate dataframe based on above parameters\n",
    "df = generate_dataframe(k, m)\n",
    "print('Data Set:\\n')\n",
    "print(df,'\\n')\n",
    "\n",
    "#Compute typical error on above created data and tree drawn above\n",
    "ERR = compute_ERR(df, tree)\n",
    "print('Average Error:')\n",
    "print(ERR,'\\n')"
   ]
  },
  {
   "cell_type": "markdown",
   "metadata": {},
   "source": [
    "# Question 5\n",
    "\n",
    "For k = 10, estimate the value of jerrtrain( ^ f) 􀀀 err( ^ f)j for a given m by repeatedly generating data sets, \f",
    "tting\n",
    "trees to those data sets, and estimating the true and training error. Do this for multiple m, and graph this\n",
    "di\u000b",
    "erence as a function of m. What can you say about the marginal value of additional training data?"
   ]
  },
  {
   "cell_type": "code",
   "execution_count": 12,
   "metadata": {},
   "outputs": [
    {
     "data": {
      "image/png": "[encoded data removed]",
      "text/plain": [
       "<Figure size 432x288 with 1 Axes>"
      ]
     },
     "metadata": {},
     "output_type": "display_data"
    }
   ],
   "source": [
    "k = 10\n",
    "m = [10, 50, 100, 200, 400, 600, 800, 1000]\n",
    "split_ratio = 0.8\n",
    "err_diff = {}\n",
    "\n",
    "for values in m:\n",
    "    df = generate_dataframe(k, values)\n",
    "    train_df = df.iloc[:int(split_ratio*values)]\n",
    "    test_df = df.iloc[int(split_ratio*values):]\n",
    "    \n",
    "    tree = generate_decision_tree(train_df)\n",
    "    \n",
    "    ERR_train = compute_ERR(train_df, tree)\n",
    "    ERR = compute_ERR(test_df, tree)\n",
    "    \n",
    "    err_diff[values] = np.absolute(ERR_train - ERR)\n",
    "    \n",
    "err_list = sorted(err_diff.items())\n",
    "x,y = zip(*err_list)\n",
    "\n",
    "plt.plot(x,y)\n",
    "plt.title('ERR Difference V/S m')\n",
    "plt.xlabel('m')\n",
    "plt.ylabel('err')\n",
    "plt.show()"
   ]
  },
  {
   "cell_type": "markdown",
   "metadata": {},
   "source": [
    "What can you say about the marginal value of additional training data?\n",
    "\n",
    "As you increase the training data, accuracy of the model increases."
   ]
  },
  {
   "cell_type": "markdown",
   "metadata": {},
   "source": [
    "# Question 6\n",
    "\n",
    "Design an alternative metric for splitting the data, not based on information content / information gain. Repeat\n",
    "the computation from (5) above for your metric, and compare the performance of your trees vs the ID3 trees."
   ]
  },
  {
   "cell_type": "markdown",
   "metadata": {},
   "source": [
    "I have used Chi-Squared test to check the weight of dependence of feature variables with Y and split based on the most dependent feature first, so on and so forth."
   ]
  },
  {
   "cell_type": "code",
   "execution_count": 13,
   "metadata": {},
   "outputs": [
    {
     "data": {
      "image/png": "[encoded data removed]",
      "text/plain": [
       "<Figure size 432x288 with 1 Axes>"
      ]
     },
     "metadata": {},
     "output_type": "display_data"
    }
   ],
   "source": [
    "#Question 6\n",
    "k = 10\n",
    "m = [10, 50, 100, 200, 400, 600, 800, 1000]\n",
    "\n",
    "split_ratio = 0.8\n",
    "err_diff = {}\n",
    "\n",
    "for values in m:\n",
    "    df = generate_dataframe(k, values)\n",
    "    train_df = df.iloc[:int(split_ratio*values)]\n",
    "    test_df = df.iloc[int(split_ratio*values):]\n",
    "    \n",
    "    tree = generate_decision_tree_chi(train_df)\n",
    "    \n",
    "    ERR_train = compute_ERR(train_df, tree)\n",
    "    ERR = compute_ERR(test_df, tree)\n",
    "    \n",
    "    err_diff[values] = np.absolute(ERR_train - ERR)\n",
    "    \n",
    "err_list = sorted(err_diff.items())\n",
    "x,y = zip(*err_list)\n",
    "\n",
    "plt.plot(x,y)\n",
    "plt.title('ERR Difference V/S m')\n",
    "plt.xlabel('m')\n",
    "plt.ylabel('err')\n",
    "plt.show()"
   ]
  },
  {
   "cell_type": "markdown",
   "metadata": {
    "collapsed": true
   },
   "source": [
    "# Conclusion drawn between ID3 & Chi-Squared Test\n",
    "\n",
    "Chi-Squared test has a steep curve compared to ID3. Which means that Chi-Squared gives better perfomance with lesser data. Also it can be inferred that Chi-Squared test results in faster computation."
   ]
  },
  {
   "cell_type": "code",
   "execution_count": 14,
   "metadata": {},
   "outputs": [
    {
     "ename": "TypeError",
     "evalue": "cannot convert the series to <class 'int'>",
     "output_type": "error",
     "traceback": [
      "\u001b[0;31m---------------------------------------------------------------------------\u001b[0m",
      "\u001b[0;31mTypeError\u001b[0m                                 Traceback (most recent call last)",
      "\u001b[0;32m<ipython-input-14-2ea73ae548e1>\u001b[0m in \u001b[0;36m<module>\u001b[0;34m()\u001b[0m\n\u001b[1;32m      1\u001b[0m \u001b[0mdf\u001b[0m \u001b[0;34m=\u001b[0m \u001b[0mgenerate_dataframe\u001b[0m\u001b[0;34m(\u001b[0m\u001b[0;36m10\u001b[0m\u001b[0;34m,\u001b[0m \u001b[0;36m100\u001b[0m\u001b[0;34m)\u001b[0m\u001b[0;34m\u001b[0m\u001b[0m\n\u001b[1;32m      2\u001b[0m \u001b[0mtree\u001b[0m \u001b[0;34m=\u001b[0m \u001b[0mgenerate_decision_tree\u001b[0m\u001b[0;34m(\u001b[0m\u001b[0mdf\u001b[0m\u001b[0;34m)\u001b[0m\u001b[0;34m\u001b[0m\u001b[0m\n\u001b[0;32m----> 3\u001b[0;31m \u001b[0mpre\u001b[0m \u001b[0;34m=\u001b[0m \u001b[0mpredict\u001b[0m\u001b[0;34m(\u001b[0m\u001b[0mdf\u001b[0m\u001b[0;34m,\u001b[0m \u001b[0mtree\u001b[0m\u001b[0;34m)\u001b[0m\u001b[0;34m\u001b[0m\u001b[0m\n\u001b[0m\u001b[1;32m      4\u001b[0m \u001b[0mpre\u001b[0m\u001b[0;34m\u001b[0m\u001b[0m\n",
      "\u001b[0;32m<ipython-input-8-29a84557e352>\u001b[0m in \u001b[0;36mpredict\u001b[0;34m(X_dataframe, tree)\u001b[0m\n\u001b[1;32m      2\u001b[0m \u001b[0;32mdef\u001b[0m \u001b[0mpredict\u001b[0m\u001b[0;34m(\u001b[0m\u001b[0mX_dataframe\u001b[0m\u001b[0;34m,\u001b[0m \u001b[0mtree\u001b[0m\u001b[0;34m)\u001b[0m\u001b[0;34m:\u001b[0m\u001b[0;34m\u001b[0m\u001b[0m\n\u001b[1;32m      3\u001b[0m     \u001b[0;32mfor\u001b[0m \u001b[0mvalue\u001b[0m \u001b[0;32min\u001b[0m \u001b[0mtree\u001b[0m\u001b[0;34m.\u001b[0m\u001b[0mkeys\u001b[0m\u001b[0;34m(\u001b[0m\u001b[0;34m)\u001b[0m\u001b[0;34m:\u001b[0m\u001b[0;34m\u001b[0m\u001b[0m\n\u001b[0;32m----> 4\u001b[0;31m         \u001b[0msub_tree\u001b[0m \u001b[0;34m=\u001b[0m \u001b[0mint\u001b[0m\u001b[0;34m(\u001b[0m\u001b[0mX_dataframe\u001b[0m\u001b[0;34m[\u001b[0m\u001b[0mvalue\u001b[0m\u001b[0;34m]\u001b[0m\u001b[0;34m)\u001b[0m\u001b[0;34m\u001b[0m\u001b[0m\n\u001b[0m\u001b[1;32m      5\u001b[0m         \u001b[0mtree\u001b[0m \u001b[0;34m=\u001b[0m \u001b[0mtree\u001b[0m\u001b[0;34m[\u001b[0m\u001b[0mvalue\u001b[0m\u001b[0;34m]\u001b[0m\u001b[0;34m[\u001b[0m\u001b[0msub_tree\u001b[0m\u001b[0;34m]\u001b[0m\u001b[0;34m\u001b[0m\u001b[0m\n\u001b[1;32m      6\u001b[0m \u001b[0;34m\u001b[0m\u001b[0m\n",
      "\u001b[0;32m/usr/local/lib/python3.6/dist-packages/pandas/core/series.py\u001b[0m in \u001b[0;36mwrapper\u001b[0;34m(self)\u001b[0m\n\u001b[1;32m    116\u001b[0m             \u001b[0;32mreturn\u001b[0m \u001b[0mconverter\u001b[0m\u001b[0;34m(\u001b[0m\u001b[0mself\u001b[0m\u001b[0;34m.\u001b[0m\u001b[0miloc\u001b[0m\u001b[0;34m[\u001b[0m\u001b[0;36m0\u001b[0m\u001b[0;34m]\u001b[0m\u001b[0;34m)\u001b[0m\u001b[0;34m\u001b[0m\u001b[0m\n\u001b[1;32m    117\u001b[0m         raise TypeError(\"cannot convert the series to \"\n\u001b[0;32m--> 118\u001b[0;31m                         \"{0}\".format(str(converter)))\n\u001b[0m\u001b[1;32m    119\u001b[0m \u001b[0;34m\u001b[0m\u001b[0m\n\u001b[1;32m    120\u001b[0m     \u001b[0;32mreturn\u001b[0m \u001b[0mwrapper\u001b[0m\u001b[0;34m\u001b[0m\u001b[0m\n",
      "\u001b[0;31mTypeError\u001b[0m: cannot convert the series to <class 'int'>"
     ]
    }
   ],
   "source": [
    "df = generate_dataframe(10, 100)\n",
    "tree = generate_decision_tree(df)\n",
    "pre = predict(df, tree)\n",
    "pre"
   ]
  }
 ],
 "metadata": {
  "kernelspec": {
   "display_name": "Python 3",
   "language": "python",
   "name": "python3"
  },
  "language_info": {
   "codemirror_mode": {
    "name": "ipython",
    "version": 3
   },
   "file_extension": ".py",
   "mimetype": "text/x-python",
   "name": "python",
   "nbconvert_exporter": "python",
   "pygments_lexer": "ipython3",
   "version": "3.6.6"
  }
 },
 "nbformat": 4,
 "nbformat_minor": 2
}
