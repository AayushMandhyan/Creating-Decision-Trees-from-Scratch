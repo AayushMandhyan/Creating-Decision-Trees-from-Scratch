{
 "cells": [
  {
   "cell_type": "markdown",
   "metadata": {},
   "source": [
    "# CS 536 : Improving Decision Trees "
   ]
  },
  {
   "cell_type": "code",
   "execution_count": 1,
   "metadata": {},
   "outputs": [],
   "source": [
    "#Importing libraries\n",
    "import numpy as np\n",
    "import pandas as pd\n",
    "from pprint import pprint\n",
    "import matplotlib.pyplot as plt\n",
    "plt.rcParams['figure.figsize'] = [15, 7]"
   ]
  },
  {
   "cell_type": "code",
   "execution_count": 2,
   "metadata": {},
   "outputs": [],
   "source": [
    "#Initializing global variables\n",
    "k = 20 # so at to take i values from 0-20\n",
    "m = 30\n",
    "epsilon = 0.0000001"
   ]
  },
  {
   "cell_type": "markdown",
   "metadata": {},
   "source": [
    "# Question 1\n",
    "\n",
    "Write a function to generate m samples of (X, Y ), and another to fit a tree to that data using ID3. Write a\n",
    "third function to, given a decision tree f, estimate the error rate of that decision tree on the underlying data,\n",
    "err(f). Do this repeatedly for a range of m values, and plot the ‘typical’ error of a tree trained on m data\n",
    "points as a function of m. Does this agree with your intuition?"
   ]
  },
  {
   "cell_type": "code",
   "execution_count": 3,
   "metadata": {},
   "outputs": [],
   "source": [
    "#Function to generate dataset\n",
    "def generate_dataframe(k=0, m=0):\n",
    "    \n",
    "    data = []\n",
    "    \n",
    "    #Internal function to generate rows\n",
    "    def generate_vector(k=0):\n",
    "        X = []\n",
    "        Y = 0\n",
    "        \n",
    "\n",
    "        for x in range(0, k+1):\n",
    "            if x >= 1 and x <= 14:\n",
    "                prev_X = X[-1]\n",
    "                X.append(int(np.random.choice([prev_X, 1-prev_X], 1, p=[0.75, 0.25])))\n",
    "            else: # when x == 1\n",
    "                X.append(int(np.random.choice([1,0], 1, p=[0.5, 0.5])))\n",
    "\n",
    "        if X[0] == 0:\n",
    "            counts = np.bincount(X[1:7])\n",
    "            X.append(np.argmax(counts))\n",
    "        else:\n",
    "            counts = np.bincount(X[8:14])\n",
    "            X.append(np.argmax(counts))\n",
    "\n",
    "        return X\n",
    "    \n",
    "    for x in range(1, m+1):\n",
    "        data.append(generate_vector(k))\n",
    "        \n",
    "    #Create header list\n",
    "    headers = ['X'+str(x) for x in range(0,k+1)] + ['Y']\n",
    "    \n",
    "    dataframe = pd.DataFrame(data, columns=headers)\n",
    "        \n",
    "    return dataframe"
   ]
  },
  {
   "cell_type": "markdown",
   "metadata": {},
   "source": [
    "Function to split feature based on Entropy"
   ]
  },
  {
   "cell_type": "code",
   "execution_count": 4,
   "metadata": {},
   "outputs": [],
   "source": [
    "#Splitting Variable function\n",
    "def splitting_variable(dataframe):\n",
    "    \"\"\"This function take a dataframe as input and returns apt splitting variable based on maximum information gain\"\"\"\n",
    "    \n",
    "    def information_gain(subset_df):\n",
    "        \"\"\"Extract the count when\n",
    "               | x=0  | x=1\n",
    "           y=0 | x0y0 | x1y0\n",
    "           y=1 | x0y1 | x1y1\n",
    "        \"\"\"\n",
    "        classes = list(subset_df)\n",
    "        x0y0 = len(subset_df.loc[(subset_df[classes[0]] == 0) & (subset_df[classes[1]] == 0)])\n",
    "        x0y1 = len(subset_df.loc[(subset_df[classes[0]] == 0) & (subset_df[classes[1]] == 1)])\n",
    "        x1y0 = len(subset_df.loc[(subset_df[classes[0]] == 1) & (subset_df[classes[1]] == 0)])\n",
    "        x1y1 = len(subset_df.loc[(subset_df[classes[0]] == 1) & (subset_df[classes[1]] == 1)])\n",
    "                \n",
    "        py0 = (x0y0 + x1y0) / (x0y0 + x1y0 + x0y1 + x1y1 + epsilon)\n",
    "        py1 = (x0y1 + x1y1) / (x0y0 + x1y0 + x0y1 + x1y1 + epsilon)\n",
    "        \n",
    "        px0 = (x0y0 + x0y1) / (x0y0 + x1y0 + x0y1 + x1y1 + epsilon)\n",
    "        px1 = (x1y0 + x1y1) / (x0y0 + x1y0 + x0y1 + x1y1 + epsilon)\n",
    "                \n",
    "        py0x0 = x0y0 / (x0y0 + x0y1 + epsilon)\n",
    "        py1x0 = x0y1 / (x0y0 + x0y1 + epsilon)\n",
    "        \n",
    "        py0x1 = x1y0 / (x1y0 + x1y1 + epsilon)\n",
    "        py1x1 = x1y1 / (x1y0 + x1y1 + epsilon)\n",
    "              \n",
    "        pyx0 = (-1 * py0x0 * np.log(py0x0 + epsilon)) + (-1 * py1x0 * np.log(py1x0 + epsilon))\n",
    "        pyx1 = (-1 * py0x1 * np.log(py0x1 + epsilon)) + (-1 * py1x1 * np.log(py1x1 + epsilon))\n",
    "                \n",
    "        hy =  (-1 * py0 * np.log(py0 + epsilon)) + (-1 * py1 * np.log(py1 + epsilon))\n",
    "        hyx = (px1 * pyx1) + (px0 * pyx0)\n",
    "                \n",
    "        igx = hy - hyx\n",
    "                \n",
    "        return igx\n",
    "    \n",
    "    #Fetch information gain for every X\n",
    "    columns = list(dataframe)\n",
    "    ig = [information_gain(dataframe[[x, 'Y']]) for x in columns[:-1]]\n",
    "    split_on_variable = columns[np.argmax(ig)]\n",
    "    \n",
    "    return split_on_variable #splitting variable"
   ]
  },
  {
   "cell_type": "markdown",
   "metadata": {},
   "source": [
    "Function to split feature based on Chi-Squared test "
   ]
  },
  {
   "cell_type": "code",
   "execution_count": 5,
   "metadata": {},
   "outputs": [],
   "source": [
    "#Splitting function based on Chi-Squared Test\n",
    "def chi_squared_split(dataframe):\n",
    "    \n",
    "    def chi_squared(subset_df):\n",
    "        \"\"\"Extract the count when\n",
    "               | x=0  | x=1\n",
    "           y=0 | x0y0 | x1y0\n",
    "           y=1 | x0y1 | x1y1\n",
    "        \"\"\"\n",
    "        classes = list(subset_df)\n",
    "        x0y0 = len(subset_df.loc[(subset_df[classes[0]] == 0) & (subset_df[classes[1]] == 0)])\n",
    "        x0y1 = len(subset_df.loc[(subset_df[classes[0]] == 0) & (subset_df[classes[1]] == 1)])\n",
    "        x1y0 = len(subset_df.loc[(subset_df[classes[0]] == 1) & (subset_df[classes[1]] == 0)])\n",
    "        x1y1 = len(subset_df.loc[(subset_df[classes[0]] == 1) & (subset_df[classes[1]] == 1)])\n",
    "        \n",
    "        total_count = x0y0 + x0y1 + x1y0 + x1y1\n",
    "        \n",
    "        py0 = (x0y0 + x1y0) / (total_count + epsilon)\n",
    "        py1 = (x0y1 + x1y1) / (total_count + epsilon)\n",
    "        \n",
    "        px0 = (x0y0 + x0y1) / (total_count + epsilon)\n",
    "        px1 = (x1y0 + x1y1) / (total_count + epsilon)\n",
    "        \n",
    "        t_x0y0 = (((px0 * py0 * total_count) - x0y0) ** 2)/((px0 * py0 * total_count) + epsilon) \n",
    "        t_x0y1 = (((px0 * py1 * total_count) - x0y1) ** 2)/((px0 * py1 * total_count) + epsilon)\n",
    "        t_x1y0 = (((px1 * py0 * total_count) - x1y0) ** 2)/((px1 * py0 * total_count) + epsilon)\n",
    "        t_x1y1 = (((px1 * py1 * total_count) - x1y1) ** 2)/((px1 * py1 * total_count) + epsilon)\n",
    "        \n",
    "        T = t_x0y0 + t_x0y1 + t_x1y0 + t_x1y1\n",
    "        \n",
    "        return T\n",
    "        \n",
    "    #Fetch information gain for every X\n",
    "    columns = list(dataframe)\n",
    "    chi = [chi_squared(dataframe[[x, 'Y']]) for x in columns[:-1]]\n",
    "\n",
    "    split_on_variable = columns[np.argmax(chi)]\n",
    "    \n",
    "    return split_on_variable, chi[np.argmax(chi)] #splitting variable"
   ]
  },
  {
   "cell_type": "markdown",
   "metadata": {},
   "source": [
    "Function to generate decision tree based on ID3 algorithm"
   ]
  },
  {
   "cell_type": "code",
   "execution_count": 6,
   "metadata": {},
   "outputs": [],
   "source": [
    "#generate decision tree\n",
    "def generate_decision_tree(dataframe, tree=None):\n",
    "    \n",
    "    #fetch the features X1, X2...Xn\n",
    "    classes = list(dataframe)[:-1]\n",
    "    \n",
    "    #get the node to split on\n",
    "    split_var = splitting_variable(dataframe)\n",
    "    \n",
    "    #initialize tree in form of dictionary if not already initialized\n",
    "    if tree is None:\n",
    "        tree = {}\n",
    "        tree[split_var] = {}\n",
    "    \n",
    "    #Explore when split_var is 0 & 1\n",
    "    for value in (0,1):\n",
    "        split_dataframe = dataframe[dataframe[split_var] == value]\n",
    "        class_value, value_count = np.unique(split_dataframe['Y'], return_counts=True)\n",
    "        \n",
    "        #check if split_dataframe has only single class to consider, if not then explore further\n",
    "        if len(value_count) == 1: \n",
    "            tree[split_var][value] = class_value[0]\n",
    "        else:\n",
    "            #recursively call the tree\n",
    "            tree[split_var][value] = generate_decision_tree(split_dataframe)\n",
    "            \n",
    "    #return the generated tree\n",
    "    return tree        "
   ]
  },
  {
   "cell_type": "code",
   "execution_count": 7,
   "metadata": {},
   "outputs": [],
   "source": [
    "#predict function using the decision tree\n",
    "def predict(X_dataframe, tree):\n",
    "    for value in tree.keys():\n",
    "        sub_tree = int(X_dataframe[value])\n",
    "        \n",
    "        try:           \n",
    "            tree = tree[value][sub_tree]\n",
    "        except KeyError:\n",
    "            return sub_tree\n",
    "        \n",
    "        if type(tree) is not dict:\n",
    "            return tree\n",
    "        else:\n",
    "            return predict(X_dataframe, tree)"
   ]
  },
  {
   "cell_type": "code",
   "execution_count": 8,
   "metadata": {},
   "outputs": [],
   "source": [
    "#Create function for computing ERR_train\n",
    "def compute_ERR(dataframe, tree):\n",
    "    \n",
    "    err = 0\n",
    "    length = len(dataframe)\n",
    "    \n",
    "    for row_index in range(0, length):\n",
    "        row = dataframe[row_index: row_index+1]\n",
    "        \n",
    "        try:\n",
    "            if 'Y' not in tree.keys() and int(row['Y']) != predict(row, tree):\n",
    "                err += 1\n",
    "\n",
    "            elif int(row['Y']) != tree['Y']:\n",
    "                err += 1\n",
    "        except:\n",
    "            pass\n",
    "            \n",
    "    return err/length"
   ]
  },
  {
   "cell_type": "code",
   "execution_count": 9,
   "metadata": {},
   "outputs": [
    {
     "data": {
      "image/png": "[encoded data removed]",
      "text/plain": [
       "<Figure size 432x288 with 1 Axes>"
      ]
     },
     "metadata": {},
     "output_type": "display_data"
    }
   ],
   "source": [
    "k = 20\n",
    "m = [10, 50, 100, 200, 400, 600, 800, 1000, 2000, 3000, 4000, 5000, 6000, 7000, 8000, 9000, 10000]\n",
    "split_ratio = 0.8\n",
    "err = {}\n",
    "\n",
    "for values in m:\n",
    "    df = generate_dataframe(k, values)\n",
    "    train_df = df.iloc[:int(split_ratio*values)]\n",
    "    test_df = df.iloc[int(split_ratio*values):]\n",
    "    \n",
    "    tree = generate_decision_tree(train_df)\n",
    "    \n",
    "    ERR = compute_ERR(test_df, tree)\n",
    "    \n",
    "    err[values] = ERR\n",
    "    \n",
    "err_list = sorted(err.items())\n",
    "x,y = zip(*err_list)\n",
    "\n",
    "plt.plot(x,y)\n",
    "plt.title('Typical ERR V/S m')\n",
    "plt.xlabel('m')\n",
    "plt.ylabel('err')\n",
    "plt.show()"
   ]
  },
  {
   "cell_type": "markdown",
   "metadata": {},
   "source": [
    "# Inference\n",
    "We can see that as the data set increases, typical error decreases. But after a point in m value the error rate does not improve much. As in our case we can make do by having m = 7000. As there is not much significant improvement in error rate from m = 7000 to m = 10000."
   ]
  },
  {
   "cell_type": "markdown",
   "metadata": {},
   "source": [
    "# Question 2\n",
    "\n",
    "Note that X15 through X20 are completely irrelevant to predicting the value of Y . For a range of m values,\n",
    "repeatedly generate data sets of that size and fit trees to that data, and estimate the average number of\n",
    "irrelevant variables that are included in the fit tree. How much data would you need, typically, to avoid fitting\n",
    "on this noise?"
   ]
  },
  {
   "cell_type": "code",
   "execution_count": 30,
   "metadata": {},
   "outputs": [],
   "source": [
    "#Check for irrelevant variables\n",
    "def get_irrelevant_variable_count(decision_tree_generator = generate_decision_tree):\n",
    "    irrelevant = [\"'X15'\", \"'X16'\", \"'X17'\", \"'X18'\", \"'X19'\", \"'X20'\"]\n",
    "    k = 20\n",
    "    #m = [10, 50, 100, 200, 400, 600, 800, 1000, 2000, 3000, 4000, 5000, 6000, 7000, 8000, 9000, 10000]\n",
    "    m = [1000, 5000, 50000, 100000, 500000]\n",
    "    split_ratio = 0.8\n",
    "    irr_count = {}\n",
    "\n",
    "    for values in m:\n",
    "        df = generate_dataframe(k, values)\n",
    "        train_df = df.iloc[:int(split_ratio*values)]\n",
    "        test_df = df.iloc[int(split_ratio*values):]\n",
    "\n",
    "        tree = decision_tree_generator(train_df)\n",
    "\n",
    "        #count irrelevant variable in current decision tree\n",
    "        variable_list = str(tree)\n",
    "        count = 0\n",
    "        for irr in irrelevant:\n",
    "            if irr in variable_list:\n",
    "                count += 1\n",
    "\n",
    "        irr_count[values] = count\n",
    "\n",
    "    irr_list = sorted(irr_count.items())\n",
    "    x,y = zip(*irr_list)\n",
    "\n",
    "    plt.plot(x,y)\n",
    "    plt.title('Irrelevant Variables V/S m')\n",
    "    plt.xlabel('m')\n",
    "    plt.ylabel('irrelevant var')\n",
    "    plt.show()\n",
    "\n",
    "    average_irrelevant_variable = sum(y)/len(y)\n",
    "    print('Average number of Irrelevant Variables: ', average_irrelevant_variable)\n",
    "    \n",
    "    return average_irrelevant_variable"
   ]
  },
  {
   "cell_type": "code",
   "execution_count": 31,
   "metadata": {},
   "outputs": [
    {
     "data": {
      "image/png": "[encoded data removed]",
      "text/plain": [
       "<Figure size 432x288 with 1 Axes>"
      ]
     },
     "metadata": {},
     "output_type": "display_data"
    },
    {
     "name": "stdout",
     "output_type": "stream",
     "text": [
      "Average number of Irrelevant Variables:  1.2\n"
     ]
    },
    {
     "data": {
      "text/plain": [
       "1.2"
      ]
     },
     "execution_count": 31,
     "metadata": {},
     "output_type": "execute_result"
    }
   ],
   "source": [
    "get_irrelevant_variable_count()"
   ]
  },
  {
   "cell_type": "markdown",
   "metadata": {},
   "source": [
    "# Inference\n",
    "\n",
    "On an average we are getting around 1.2 irrelevant variable when m is 10000 and as the value of m increases the count of irrelevant variables in our decision tree drops to 0"
   ]
  },
  {
   "cell_type": "markdown",
   "metadata": {},
   "source": [
    "# Question 3\n",
    "\n",
    "Generate a data set of size m = 10000, and set aside 8000 points for training, and 2000 points for testing. The\n",
    "remaining questions should all be applied to this data set."
   ]
  },
  {
   "cell_type": "markdown",
   "metadata": {},
   "source": [
    "Question 3 : Part a)\n",
    "\n",
    "**Pruning by Depth:** Consider growing a tree as a process - running ID3 for instance until all splits\n",
    "up to depth d have been performed. Depth d = 0 should correspond to no decisions - a prediction for Y\n",
    "is made just on the raw frequencies of Y in the data. Plot, as a function of d, the error on the training\n",
    "set and the error on the test set for a tree grown to depth d. What does your data suggest as a good\n",
    "threshold depth?"
   ]
  },
  {
   "cell_type": "code",
   "execution_count": 12,
   "metadata": {},
   "outputs": [],
   "source": [
    "#generate decision tree using pruning by depth\n",
    "def depth_pruning_generate_decision_tree(dataframe, tree=None, depth=0, count=0):\n",
    "     \n",
    "    \"\"\"print(depth)\"\"\"\n",
    "    \n",
    "    #fetch the features X1, X2...Xn\n",
    "    classes = list(dataframe)[:-1]\n",
    "    \n",
    "    #get the node to split on\n",
    "    split_var = splitting_variable(dataframe)\n",
    "    \n",
    "    #initialize tree in form of dictionary if not already initialized\n",
    "    if tree is None:\n",
    "        tree = {}\n",
    "        tree[split_var] = {}\n",
    "    \n",
    "    if depth == 0 and count == 0:\n",
    "        tree = {}\n",
    "        counts = np.bincount(dataframe['Y'])\n",
    "        if counts[0] == counts[1]:\n",
    "            tree['Y'] = int(np.random.choice([1,0], 1, p=[0.5, 0.5]))\n",
    "        else:\n",
    "            tree['Y'] = np.argmax(counts)\n",
    "        return tree\n",
    "        \n",
    "    #Explore when split_var is 0 & 1\n",
    "    for value in (0,1):\n",
    "        split_dataframe = dataframe[dataframe[split_var] == value]\n",
    "        class_value, value_count = np.unique(split_dataframe['Y'], return_counts=True)\n",
    "        \n",
    "        #check if split_dataframe has only single class to consider, if not then explore further\n",
    "        if len(value_count) == 1: \n",
    "            tree[split_var][value] = class_value[0]\n",
    "        else:\n",
    "            #recursively call the tree\n",
    "            if depth == 0:\n",
    "                \"\"\"print(split_var)\n",
    "                print(split_dataframe)\"\"\"\n",
    "                counts = np.bincount(split_dataframe['Y'])\n",
    "                if counts[0] == counts[1]:\n",
    "                    tree[split_var][value] = int(np.random.choice([1,0], 1, p=[0.5, 0.5]))\n",
    "                else:\n",
    "                    tree[split_var][value] = np.argmax(counts)\n",
    "                break\n",
    "            tree[split_var][value] = depth_pruning_generate_decision_tree(split_dataframe, depth=depth-1, count=count+1)\n",
    "            \n",
    "    #return the generated tree\n",
    "    return tree "
   ]
  },
  {
   "cell_type": "code",
   "execution_count": 13,
   "metadata": {},
   "outputs": [
    {
     "name": "stdout",
     "output_type": "stream",
     "text": [
      "{'X3': {0: {'X0': {0: 0, 1: {'X9': {0: 0, 1: 1}}}},\n",
      "        1: {'X8': {0: {'X6': {0: 0}}, 1: {'X11': {0: 0}}}}}}\n"
     ]
    }
   ],
   "source": [
    "pprint(depth_pruning_generate_decision_tree(generate_dataframe(k=20, m=100), depth=2))"
   ]
  },
  {
   "cell_type": "code",
   "execution_count": 32,
   "metadata": {},
   "outputs": [
    {
     "data": {
      "image/png": "[encoded data removed]",
      "text/plain": [
       "<Figure size 432x288 with 1 Axes>"
      ]
     },
     "metadata": {},
     "output_type": "display_data"
    },
    {
     "data": {
      "image/png": "[encoded data removed]",
      "text/plain": [
       "<Figure size 432x288 with 1 Axes>"
      ]
     },
     "metadata": {},
     "output_type": "display_data"
    }
   ],
   "source": [
    "k = 20\n",
    "m = 10000\n",
    "split_ratio = 0.8\n",
    "err_train_list = {}\n",
    "err_list = {}\n",
    "sample_list = [0, 1, 2, 3, 4, 5, 6, 7, 8, 9, 10, 11, 12, 13, 14, 15]\n",
    "#sample_list = [0, 1, 2]\n",
    "\n",
    "for values in sample_list:\n",
    "    df = generate_dataframe(k, m)\n",
    "    train_df = df.iloc[:int(split_ratio*m)]\n",
    "    test_df = df.iloc[int(split_ratio*m):]\n",
    "    \n",
    "    tree = depth_pruning_generate_decision_tree(train_df, depth=values)\n",
    "    \"\"\"print(tree)\"\"\"\n",
    "    err_train_list[values] = compute_ERR(train_df, tree)\n",
    "    err_list[values] = compute_ERR(test_df, tree)\n",
    "\n",
    "    \n",
    "err = sorted(err_train_list.items())\n",
    "x,y = zip(*err)\n",
    "\n",
    "plt.plot(x,y)\n",
    "plt.title('Train Err V/S d')\n",
    "plt.xlabel('d')\n",
    "plt.ylabel('err')\n",
    "plt.show()\n",
    "    \n",
    "err = sorted(err_list.items())\n",
    "x,y = zip(*err)\n",
    "\n",
    "plt.plot(x,y)\n",
    "plt.title('Test Err V/S d')\n",
    "plt.xlabel('d')\n",
    "plt.ylabel('err')\n",
    "plt.show()"
   ]
  },
  {
   "cell_type": "markdown",
   "metadata": {},
   "source": [
    "# Inference \n",
    "\n",
    "As the depth of the tree increases the error rate on Train set and Test set decreases. As we can see from above plots that there is no much significant change in error rate in d = 8 and d = 10 so we can take d = 8 as a good threshold for d. Which will also improve the computation cost versus when d = 10."
   ]
  },
  {
   "cell_type": "markdown",
   "metadata": {},
   "source": [
    "Question 3 : Part b)\n",
    "\n",
    "**Pruning by Sample Size:** The less data a split is performed on, the less ‘accurate’ we expect the\n",
    "result of that split to be. Let s be a threshold such that if the data available at a node in your decision\n",
    "tree is less than or equal to s, you do not split and instead decide Y by simple majority vote (ties broken\n",
    "by coin flip). Plot, as a function of s, the error on the training set and the error on the testing set for a\n",
    "tree split down to sample size s. What does your data suggest as a good sample size threshold?"
   ]
  },
  {
   "cell_type": "code",
   "execution_count": 15,
   "metadata": {},
   "outputs": [],
   "source": [
    "#generate decision tree using pruning by sample\n",
    "def sample_pruning_generate_decision_tree(dataframe, tree=None, s=0):\n",
    "    \n",
    "    #fetch the features X1, X2...Xn\n",
    "    classes = list(dataframe)[:-1]\n",
    "    \n",
    "    #get the node to split on\n",
    "    split_var = splitting_variable(dataframe)\n",
    "    \n",
    "    #initialize tree in form of dictionary if not already initialized\n",
    "    if tree is None:\n",
    "        tree = {}\n",
    "        tree[split_var] = {}\n",
    "    \n",
    "    #Explore when split_var is 0 & 1\n",
    "    for value in (0,1):\n",
    "        \n",
    "        if len(dataframe) <= s:\n",
    "            counts = np.bincount(dataframe['Y'])\n",
    "            if counts[0] == counts[1]:\n",
    "                tree[split_var][value] = int(np.random.choice([1,0], 1, p=[0.5, 0.5]))\n",
    "            else:\n",
    "                tree[split_var][value] = np.argmax(counts)\n",
    "            return tree\n",
    "        \n",
    "        split_dataframe = dataframe[dataframe[split_var] == value]\n",
    "        class_value, value_count = np.unique(split_dataframe['Y'], return_counts=True)\n",
    "        \n",
    "        #check if split_dataframe has only single class to consider, if not then explore further\n",
    "        if len(value_count) == 1: \n",
    "            tree[split_var][value] = class_value[0]\n",
    "        else:\n",
    "            #recursively call the tree\n",
    "            tree[split_var][value] = sample_pruning_generate_decision_tree(split_dataframe, s=s)\n",
    "            \n",
    "    #return the generated tree\n",
    "    return tree        "
   ]
  },
  {
   "cell_type": "code",
   "execution_count": 16,
   "metadata": {},
   "outputs": [
    {
     "name": "stdout",
     "output_type": "stream",
     "text": [
      "{'X8': {0: {'X1': {0: {'X2': {0: 0, 1: {'X5': {0: 0}}}},\n",
      "                   1: {'X12': {0: 0, 1: {'X13': {0: 1}}}}}},\n",
      "        1: {'X10': {0: {'X12': {0: {'X5': {0: 0}}, 1: {'X5': {0: 1}}}},\n",
      "                    1: {'X0': {0: {'X3': {0: 0, 1: {'X4': {0: 1}}}},\n",
      "                               1: {'X12': {0: {'X13': {0: 1}}, 1: 1}}}}}}}}\n"
     ]
    }
   ],
   "source": [
    "pprint(sample_pruning_generate_decision_tree(generate_dataframe(k=20, m=100), s=10))"
   ]
  },
  {
   "cell_type": "code",
   "execution_count": 17,
   "metadata": {},
   "outputs": [
    {
     "data": {
      "image/png": "[encoded data removed]",
      "text/plain": [
       "<Figure size 432x288 with 1 Axes>"
      ]
     },
     "metadata": {},
     "output_type": "display_data"
    },
    {
     "data": {
      "image/png": "[encoded data removed]",
      "text/plain": [
       "<Figure size 432x288 with 1 Axes>"
      ]
     },
     "metadata": {},
     "output_type": "display_data"
    }
   ],
   "source": [
    "k = 20\n",
    "m = 10000\n",
    "split_ratio = 0.8\n",
    "err_train_list = {}\n",
    "err_list = {}\n",
    "sample_list = [10, 15, 20, 25, 30, 35, 40, 45, 50, 55, 60, 65, 70, 75, 80, 85, 90, 95, 100]\n",
    "#sample_list = [0, 1, 2]\n",
    "\n",
    "for values in sample_list:\n",
    "    df = generate_dataframe(k, m)\n",
    "    train_df = df.iloc[:int(split_ratio*m)]\n",
    "    test_df = df.iloc[int(split_ratio*m):]\n",
    "    \n",
    "    tree = sample_pruning_generate_decision_tree(train_df, s=values)\n",
    "    \"\"\"print(tree)\"\"\"\n",
    "    err_train_list[values] = compute_ERR(train_df, tree)\n",
    "    err_list[values] = compute_ERR(test_df, tree)\n",
    "\n",
    "    \n",
    "err = sorted(err_train_list.items())\n",
    "x,y = zip(*err)\n",
    "\n",
    "plt.plot(x,y)\n",
    "plt.title('Train Err V/S s')\n",
    "plt.xlabel('s')\n",
    "plt.ylabel('err')\n",
    "plt.show()\n",
    "    \n",
    "err = sorted(err_list.items())\n",
    "x,y = zip(*err)\n",
    "\n",
    "plt.plot(x,y)\n",
    "plt.title('Test Err V/S s')\n",
    "plt.xlabel('s')\n",
    "plt.ylabel('err')\n",
    "plt.show()"
   ]
  },
  {
   "cell_type": "markdown",
   "metadata": {},
   "source": [
    "# Inference \n",
    "\n",
    "In the case when we prune the tree based on the sample size of the input at any given point in the tree; we get the above results for Train and Test Error. On taking a look at it we can see that our algorithm best performs when sample size taken is 10, ie having lowest Test error and a negligible amount of training error. Thus we can conclude that our sample size threshold is 10."
   ]
  },
  {
   "cell_type": "markdown",
   "metadata": {},
   "source": [
    "Question 3 : Part c)\n",
    "\n",
    "**Pruning by Significance:** If a variable X is independent of Y , then X has no value as a splitting\n",
    "variable. We can use something like the χ2-test to estimate how likely a potential splitting variable is\n",
    "to be independent, based on the test statistic T compared to some threshold T0 (in the usual 2-outcome\n",
    "case, T0 = 3.841 is used to test at a significance level of p = 5% - see notes for more explanation). Given\n",
    "T0, if given the data for X the value of T is less than T0, it is deemed not significant and is not used for\n",
    "splitting. If given the data for X the value of T is greater than T0, it is deemed significant, and used for\n",
    "splitting. Plot, as a function of T0, the error on the training set and the error on the testing set for a tree\n",
    "split at significance threshold T0. What does your data suggest as a good threshold for significance?"
   ]
  },
  {
   "cell_type": "code",
   "execution_count": 18,
   "metadata": {},
   "outputs": [],
   "source": [
    "#generate decision tree using pruning by significance\n",
    "def significance_pruning_generate_decision_tree(dataframe, tree=None, t0=0):\n",
    "    \n",
    "    #fetch the features X1, X2...Xn\n",
    "    classes = list(dataframe)[:-1]\n",
    "    \n",
    "    #get the node to split on\n",
    "    split_var, t = chi_squared_split(dataframe)\n",
    "\n",
    "    #initialize tree in form of dictionary if not already initialized\n",
    "    if tree is None:\n",
    "        tree = {}\n",
    "        tree[split_var] = {}\n",
    "    \n",
    "    #Explore when split_var is 0 & 1\n",
    "    for value in (0,1):\n",
    "        \n",
    "        if t < t0:\n",
    "            counts = np.bincount(dataframe['Y'])\n",
    "            if counts[0] == counts[1]:\n",
    "                tree[split_var][value] = int(np.random.choice([1,0], 1, p=[0.5, 0.5]))\n",
    "            else:\n",
    "                tree[split_var][value] = np.argmax(counts)\n",
    "            return tree\n",
    "        \n",
    "        split_dataframe = dataframe[dataframe[split_var] == value]\n",
    "        class_value, value_count = np.unique(split_dataframe['Y'], return_counts=True)\n",
    "        \n",
    "        #check if split_dataframe has only single class to consider, if not then explore further\n",
    "        if len(value_count) == 1: \n",
    "            tree[split_var][value] = class_value[0]\n",
    "        else:\n",
    "            #recursively call the tree\n",
    "            tree[split_var][value] = significance_pruning_generate_decision_tree(split_dataframe, t0=t0)\n",
    "            \n",
    "    #return the generated tree\n",
    "    return tree        "
   ]
  },
  {
   "cell_type": "code",
   "execution_count": 19,
   "metadata": {},
   "outputs": [
    {
     "name": "stdout",
     "output_type": "stream",
     "text": [
      "{'X4': {0: {'X0': {0: {'X1': {0: 0, 1: {'X3': {0: 0}}}},\n",
      "                   1: {'X11': {0: 0, 1: {'X8': {0: {'X10': {0: 0}}, 1: 1}}}}}},\n",
      "        1: {'X7': {0: {'X2': {0: {'X16': {0: 0}},\n",
      "                              1: {'X10': {0: {'X0': {0: 1, 1: 0}}, 1: 1}}}},\n",
      "                   1: {'X11': {0: {'X8': {0: 1}}, 1: 1}}}}}}\n"
     ]
    }
   ],
   "source": [
    "pprint(significance_pruning_generate_decision_tree(generate_dataframe(k=20, m=100), t0=3.841))"
   ]
  },
  {
   "cell_type": "code",
   "execution_count": 20,
   "metadata": {},
   "outputs": [
    {
     "data": {
      "image/png": "[encoded data removed]",
      "text/plain": [
       "<Figure size 432x288 with 1 Axes>"
      ]
     },
     "metadata": {},
     "output_type": "display_data"
    },
    {
     "data": {
      "image/png": "[encoded data removed]",
      "text/plain": [
       "<Figure size 432x288 with 1 Axes>"
      ]
     },
     "metadata": {},
     "output_type": "display_data"
    }
   ],
   "source": [
    "k = 20\n",
    "m = 10000\n",
    "split_ratio = 0.8\n",
    "err_train_list = {}\n",
    "err_list = {}\n",
    "sample_list = [0, 0.2, 0.4, 0.6, 0.8, 1.0, 1.2, 1.4, 1.6, 1.8, 2.0, 2.2, 2.4, 2.6, 2.8, 3.0, 3.2, 3.4, 3.6, 3.8, 4.0, 4.2, 4.4, 4.6, 4.8]\n",
    "#sample_list = [0, 1, 2]\n",
    "\n",
    "for values in sample_list:\n",
    "    df = generate_dataframe(k, m)\n",
    "    train_df = df.iloc[:int(split_ratio*m)]\n",
    "    test_df = df.iloc[int(split_ratio*m):]\n",
    "    \n",
    "    tree = significance_pruning_generate_decision_tree(train_df, t0=values)\n",
    "    \"\"\"print(tree)\"\"\"\n",
    "    err_train_list[values] = compute_ERR(train_df, tree)\n",
    "    err_list[values] = compute_ERR(test_df, tree)\n",
    "\n",
    "    \n",
    "err = sorted(err_train_list.items())\n",
    "x,y = zip(*err)\n",
    "\n",
    "plt.plot(x,y)\n",
    "plt.title('Train Err V/S t0')\n",
    "plt.xlabel('t0')\n",
    "plt.ylabel('err')\n",
    "plt.show()\n",
    "    \n",
    "err = sorted(err_list.items())\n",
    "x,y = zip(*err)\n",
    "\n",
    "plt.plot(x,y)\n",
    "plt.title('Test Err V/S t0')\n",
    "plt.xlabel('t0')\n",
    "plt.ylabel('err')\n",
    "plt.show()"
   ]
  },
  {
   "cell_type": "markdown",
   "metadata": {},
   "source": [
    "# Inference\n",
    "\n",
    "When we prune by significance, by using Chi-Squared Test to check the dependence value between variable and ouput vector. We train this for various threshold of T value for Chi-Squared Test and the results for Train and Test set are ploted above. From the plot we can see that for value of T0 = 2.2 we have the least Train and Test Error. Hence we can conclude that our algorithm works best for threshold value of T0 = 2.2"
   ]
  },
  {
   "cell_type": "markdown",
   "metadata": {},
   "source": [
    "# Question 5\n",
    "\n",
    "Repeat the computation of Problem 2, growing your trees only to depth d as chosen in 3.a. How does this\n",
    "change the likelihood or frequency of including spurious variables in your trees?"
   ]
  },
  {
   "cell_type": "code",
   "execution_count": 33,
   "metadata": {},
   "outputs": [
    {
     "data": {
      "image/png": "[encoded data removed]",
      "text/plain": [
       "<Figure size 432x288 with 1 Axes>"
      ]
     },
     "metadata": {},
     "output_type": "display_data"
    },
    {
     "name": "stdout",
     "output_type": "stream",
     "text": [
      "Average number of Irrelevant Variables:  0.8\n"
     ]
    }
   ],
   "source": [
    "irrelevant = [\"'X15'\", \"'X16'\", \"'X17'\", \"'X18'\", \"'X19'\", \"'X20'\"]\n",
    "k = 20\n",
    "#m = [10, 50, 100, 200, 400, 600, 800, 1000, 2000, 3000, 4000, 5000, 6000, 7000, 8000, 9000, 10000]\n",
    "m = [1000, 5000, 50000, 100000, 500000]\n",
    "split_ratio = 0.8\n",
    "irr_count = {}\n",
    "depth = 8\n",
    "\n",
    "for values in m:\n",
    "    df = generate_dataframe(k, values)\n",
    "    train_df = df.iloc[:int(split_ratio*values)]\n",
    "    test_df = df.iloc[int(split_ratio*values):]\n",
    "\n",
    "    tree = depth_pruning_generate_decision_tree(train_df, depth=depth)\n",
    "\n",
    "    #count irrelevant variable in current decision tree\n",
    "    variable_list = str(tree)\n",
    "    count = 0\n",
    "    for irr in irrelevant:\n",
    "        if irr in variable_list:\n",
    "            count += 1\n",
    "\n",
    "    irr_count[values] = count\n",
    "\n",
    "irr_list = sorted(irr_count.items())\n",
    "x,y = zip(*irr_list)\n",
    "\n",
    "plt.plot(x,y)\n",
    "plt.title('Irrelevant Variables V/S m')\n",
    "plt.xlabel('m')\n",
    "plt.ylabel('irrelevant var')\n",
    "plt.show()\n",
    "\n",
    "average_irrelevant_variable = sum(y)/len(y)\n",
    "print('Average number of Irrelevant Variables: ', average_irrelevant_variable)"
   ]
  },
  {
   "cell_type": "markdown",
   "metadata": {},
   "source": [
    "# Inference\n",
    "\n",
    "On an average we are getting around 0.8 irrelevant variable when m is less than 10000 and as the value of m increases the count of irrelevant variables in our decision tree drops to 0. This is observed when we prune our decision tree using depth d = 8."
   ]
  },
  {
   "cell_type": "markdown",
   "metadata": {},
   "source": [
    "# Question 6\n",
    "\n",
    "Repeat the computation of Problem 2, splitting your trees only to sample size s as chosen in 3.b. How does\n",
    "this change the likelihood or frequency of including spurious variables in your trees?\n"
   ]
  },
  {
   "cell_type": "code",
   "execution_count": 34,
   "metadata": {},
   "outputs": [
    {
     "data": {
      "image/png": "[encoded data removed]",
      "text/plain": [
       "<Figure size 432x288 with 1 Axes>"
      ]
     },
     "metadata": {},
     "output_type": "display_data"
    },
    {
     "name": "stdout",
     "output_type": "stream",
     "text": [
      "Average number of Irrelevant Variables:  1.0\n"
     ]
    }
   ],
   "source": [
    "irrelevant = [\"'X15'\", \"'X16'\", \"'X17'\", \"'X18'\", \"'X19'\", \"'X20'\"]\n",
    "k = 20\n",
    "#m = [10, 50, 100, 200, 400, 600, 800, 1000, 2000, 3000, 4000, 5000, 6000, 7000, 8000, 9000, 10000]\n",
    "m = [1000, 5000, 50000, 100000, 500000]\n",
    "split_ratio = 0.8\n",
    "irr_count = {}\n",
    "sample = 10\n",
    "\n",
    "for values in m:\n",
    "    df = generate_dataframe(k, values)\n",
    "    train_df = df.iloc[:int(split_ratio*values)]\n",
    "    test_df = df.iloc[int(split_ratio*values):]\n",
    "\n",
    "    tree = sample_pruning_generate_decision_tree(train_df, s=sample)\n",
    "\n",
    "    #count irrelevant variable in current decision tree\n",
    "    variable_list = str(tree)\n",
    "    count = 0\n",
    "    for irr in irrelevant:\n",
    "        if irr in variable_list:\n",
    "            count += 1\n",
    "\n",
    "    irr_count[values] = count\n",
    "\n",
    "irr_list = sorted(irr_count.items())\n",
    "x,y = zip(*irr_list)\n",
    "\n",
    "plt.plot(x,y)\n",
    "plt.title('Irrelevant Variables V/S m')\n",
    "plt.xlabel('m')\n",
    "plt.ylabel('irrelevant var')\n",
    "plt.show()\n",
    "\n",
    "average_irrelevant_variable = sum(y)/len(y)\n",
    "print('Average number of Irrelevant Variables: ', average_irrelevant_variable)"
   ]
  },
  {
   "cell_type": "markdown",
   "metadata": {},
   "source": [
    "# Inference\n",
    "\n",
    "On an average we are getting around 1 irrelevant variable when m is less than 5000 and as the value of m increases the count of irrelevant variables in our decision tree drops to 0. This is observed when we prune our decision tree using sample size = 10."
   ]
  },
  {
   "cell_type": "markdown",
   "metadata": {},
   "source": [
    "# Question 7\n",
    "\n",
    "Repeat the computation of Problem 2, splitting your trees only at or above threshold level T0 as chosen in 3.c.\n",
    "How does this change the likelihood or frequency of including spurious variables in your trees?"
   ]
  },
  {
   "cell_type": "code",
   "execution_count": 35,
   "metadata": {},
   "outputs": [
    {
     "data": {
      "image/png": "[encoded data removed]",
      "text/plain": [
       "<Figure size 432x288 with 1 Axes>"
      ]
     },
     "metadata": {},
     "output_type": "display_data"
    },
    {
     "name": "stdout",
     "output_type": "stream",
     "text": [
      "Average number of Irrelevant Variables:  1.8\n"
     ]
    }
   ],
   "source": [
    "irrelevant = [\"'X15'\", \"'X16'\", \"'X17'\", \"'X18'\", \"'X19'\", \"'X20'\"]\n",
    "k = 20\n",
    "#m = [10, 50, 100, 200, 400, 600, 800, 1000, 2000, 3000, 4000, 5000, 6000, 7000, 8000, 9000, 10000]\n",
    "m = [1000, 5000, 50000, 100000, 500000]\n",
    "split_ratio = 0.8\n",
    "irr_count = {}\n",
    "t0 = 2.2\n",
    "\n",
    "for values in m:\n",
    "    df = generate_dataframe(k, values)\n",
    "    train_df = df.iloc[:int(split_ratio*values)]\n",
    "    test_df = df.iloc[int(split_ratio*values):]\n",
    "\n",
    "    tree = significance_pruning_generate_decision_tree(train_df, t0=t0)\n",
    "\n",
    "    #count irrelevant variable in current decision tree\n",
    "    variable_list = str(tree)\n",
    "    count = 0\n",
    "    for irr in irrelevant:\n",
    "        if irr in variable_list:\n",
    "            count += 1\n",
    "\n",
    "    irr_count[values] = count\n",
    "\n",
    "irr_list = sorted(irr_count.items())\n",
    "x,y = zip(*irr_list)\n",
    "\n",
    "plt.plot(x,y)\n",
    "plt.title('Irrelevant Variables V/S m')\n",
    "plt.xlabel('m')\n",
    "plt.ylabel('irrelevant var')\n",
    "plt.show()\n",
    "\n",
    "average_irrelevant_variable = sum(y)/len(y)\n",
    "print('Average number of Irrelevant Variables: ', average_irrelevant_variable)"
   ]
  },
  {
   "cell_type": "markdown",
   "metadata": {},
   "source": [
    "# Inference\n",
    "\n",
    "On an average we are getting around 1.8 irrelevant variable when m is less than 10000 and as the value of m increases the count of irrelevant variables in our decision tree slowly drops to 0. This is observed when we prune our decision tree using T0 = 2.2."
   ]
  }
 ],
 "metadata": {
  "kernelspec": {
   "display_name": "Python 3",
   "language": "python",
   "name": "python3"
  },
  "language_info": {
   "codemirror_mode": {
    "name": "ipython",
    "version": 3
   },
   "file_extension": ".py",
   "mimetype": "text/x-python",
   "name": "python",
   "nbconvert_exporter": "python",
   "pygments_lexer": "ipython3",
   "version": "3.6.6"
  }
 },
 "nbformat": 4,
 "nbformat_minor": 2
}
